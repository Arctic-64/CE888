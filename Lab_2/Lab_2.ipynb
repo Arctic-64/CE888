{
  "nbformat": 4,
  "nbformat_minor": 0,
  "metadata": {
    "colab": {
      "name": "Lab_2.ipynb",
      "provenance": [],
      "collapsed_sections": [],
      "include_colab_link": true
    },
    "kernelspec": {
      "display_name": "Python 3",
      "language": "python",
      "name": "python3"
    },
    "language_info": {
      "codemirror_mode": {
        "name": "ipython",
        "version": 3
      },
      "file_extension": ".py",
      "mimetype": "text/x-python",
      "name": "python",
      "nbconvert_exporter": "python",
      "pygments_lexer": "ipython3",
      "version": "3.7.6"
    },
    "pycharm": {
      "stem_cell": {
        "cell_type": "raw",
        "metadata": {
          "collapsed": false
        },
        "source": []
      }
    }
  },
  "cells": [
    {
      "cell_type": "markdown",
      "metadata": {
        "id": "view-in-github",
        "colab_type": "text"
      },
      "source": [
        "<a href=\"https://colab.research.google.com/github/Arctic-64/CE888/blob/main/Lab_2/Lab_2.ipynb\" target=\"_parent\"><img src=\"https://colab.research.google.com/assets/colab-badge.svg\" alt=\"Open In Colab\"/></a>"
      ]
    },
    {
      "cell_type": "markdown",
      "metadata": {
        "id": "nCi_99yMYIb1"
      },
      "source": [
        "In this notebook you'll create your own bootstrap function following the bootstrap algorithm (check the lecture notes!)"
      ]
    },
    {
      "cell_type": "code",
      "metadata": {
        "id": "LY5zujI2YC37",
        "pycharm": {
          "name": "#%%# Imports\n"
        }
      },
      "source": [
        "import matplotlib as plt\n",
        "import pandas as pd\n",
        "import seaborn as sns\n",
        "import numpy as np\n",
        "\n"
      ],
      "execution_count": 2,
      "outputs": []
    },
    {
      "cell_type": "code",
      "metadata": {
        "id": "Eqkwj4SMY38t"
      },
      "source": [
        "# Load the data\n",
        "df = pd.read_csv('https://raw.githubusercontent.com/albanda/CE888/master/lab2%20-%20bootstrap/customers.csv')\n",
        "data = df.values.T[1]"
      ],
      "execution_count": 4,
      "outputs": []
    },
    {
      "cell_type": "code",
      "metadata": {
        "id": "Gxvc_bScYC4H",
        "pycharm": {
          "name": "#%%\n"
        }
      },
      "source": [
        "# Checking the notes from the lecture, create here your own bootstrap function:\n",
        "# 1. Sample from the input array x to create an array of samples of shape (n_bootstraps, sample_size)\n",
        "# Hint: Check the function random.choice() on Numpy\n",
        "# 2. Calculate and save the mean of the array (this is \"data_mean\" that is returned by the function)\n",
        "# 3. Calculate the mean from each bootstrap (i.e., row) and store it.\n",
        "# (This should be an array of n_bootstraps values)\n",
        "# 4. Calculate the lower and upper bounds for a 95% CI (hint: check the percentile function on Numpy)\n",
        "# 5. Return data_mean, and the lower and upper bounds of your interval\n",
        "def bootstrap_mean(sample, sample_size, n_bootstraps):\n",
        "  simulation = list()\n",
        "  for y in range(n_bootstraps):\n",
        "    itteration = np.random.choice(sample, sample_size, replace=True)\n",
        "    simulation.append(np.mean(itteration))\n",
        "  data_mean = np.mean(simulation)\n",
        "  lower = np.percentile(simulation, 2.5)\n",
        "  upper = np.percentile(simulation, 97.5)\n",
        "  return (data_mean, lower, upper)"
      ],
      "execution_count": 5,
      "outputs": []
    },
    {
      "cell_type": "code",
      "metadata": {
        "id": "AN7sEOcMYC4P",
        "pycharm": {
          "name": "#%%\n"
        },
        "colab": {
          "base_uri": "https://localhost:8080/",
          "height": 471
        },
        "outputId": "efb32133-5650-4800-b4b4-efc28b7c9906"
      },
      "source": [
        "# Call your bootstrap function and plot the results\n",
        "\n",
        "boots = []\n",
        "for i in range(100, 50000, 1000):\n",
        "    boot = bootstrap_mean(data, data.shape[0], i)\n",
        "    boots.append([i, boot[0], \"mean\"])\n",
        "    boots.append([i, boot[1], \"lower\"])\n",
        "    boots.append([i, boot[2], \"upper\"])\n",
        "\n",
        "df_boot = pd.DataFrame(boots, columns=['Bootstrap Iterations', 'Mean', \"Value\"])\n",
        "sns_plot = sns.lmplot(df_boot.columns[0], df_boot.columns[1], data=df_boot, fit_reg=False, hue=\"Value\")\n",
        "\n",
        "sns_plot.axes[0, 0].set_ylim(0,)\n",
        "sns_plot.axes[0, 0].set_xlim(0, 100000)\n",
        "\n",
        "print(np.mean(boot[1]))\n",
        "print(np.mean(boot[2]))\n"
      ],
      "execution_count": 6,
      "outputs": [
        {
          "output_type": "stream",
          "text": [
            "/usr/local/lib/python3.7/dist-packages/seaborn/_decorators.py:43: FutureWarning: Pass the following variables as keyword args: x, y. From version 0.12, the only valid positional argument will be `data`, and passing other arguments without an explicit keyword will result in an error or misinterpretation.\n",
            "  FutureWarning\n"
          ],
          "name": "stderr"
        },
        {
          "output_type": "stream",
          "text": [
            "6.428571428571429\n",
            "12.357142857142858\n"
          ],
          "name": "stdout"
        },
        {
          "output_type": "display_data",
          "data": {
            "image/png": "[encoded data removed]",
            "text/plain": [
              "<Figure size 425.125x360 with 1 Axes>"
            ]
          },
          "metadata": {
            "tags": [],
            "needs_background": "light"
          }
        }
      ]
    },
    {
      "cell_type": "markdown",
      "metadata": {
        "id": "MjtP4e2_YC4V"
      },
      "source": [
        "\n",
        "Now, modify the bootstrap function you created above so that you can pass your desired confidence interval as a parameter.\n",
        "\n"
      ]
    },
    {
      "cell_type": "code",
      "metadata": {
        "id": "3K9j0FuGYhHs"
      },
      "source": [
        "def bootstrap_mean_ci(sample, sample_size, n_bootstraps, ci):\n",
        "  simulation = list()\n",
        "  for y in range(n_bootstraps):\n",
        "    itteration = np.random.choice(sample, sample_size, replace=True)\n",
        "    simulation.append(np.mean(itteration))\n",
        "  data_mean = np.mean(simulation)\n",
        "  ci_value = (100 - ci) / 2\n",
        "  lower = np.percentile(simulation, ci_value)\n",
        "  upper = np.percentile(simulation, 100 - ci_value)\n",
        "  return data_mean, lower, upper"
      ],
      "execution_count": 7,
      "outputs": []
    },
    {
      "cell_type": "code",
      "metadata": {
        "id": "uDnjq08GYl-C",
        "colab": {
          "base_uri": "https://localhost:8080/",
          "height": 471
        },
        "outputId": "4e3f07fa-1b7f-4254-fb55-b5717462e8e0"
      },
      "source": [
        "boots = []\n",
        "for i in range(100, 50000, 1000):\n",
        "    boot = bootstrap_mean_ci(data, data.shape[0], i, 80)\n",
        "    boots.append([i, boot[0], \"mean\"])\n",
        "    boots.append([i, boot[1], \"lower\"])\n",
        "    boots.append([i, boot[2], \"upper\"])\n",
        "\n",
        "df_boot = pd.DataFrame(boots, columns=['Boostrap Iterations', 'Mean', \"Value\"])\n",
        "sns_plot = sns.lmplot(df_boot.columns[0], df_boot.columns[1], data=df_boot, fit_reg=False, hue=\"Value\")\n",
        "\n",
        "sns_plot.axes[0, 0].set_ylim(0,)\n",
        "sns_plot.axes[0, 0].set_xlim(0, 100000)\n",
        "\n",
        "print(np.mean(boot[1]))\n",
        "print(np.mean(boot[2]))\n",
        "\n",
        "#sns_plot.savefig(\"bootstrap_confidence_80.pdf\", bbox_inches='tight')\n"
      ],
      "execution_count": 8,
      "outputs": [
        {
          "output_type": "stream",
          "text": [
            "/usr/local/lib/python3.7/dist-packages/seaborn/_decorators.py:43: FutureWarning: Pass the following variables as keyword args: x, y. From version 0.12, the only valid positional argument will be `data`, and passing other arguments without an explicit keyword will result in an error or misinterpretation.\n",
            "  FutureWarning\n"
          ],
          "name": "stderr"
        },
        {
          "output_type": "stream",
          "text": [
            "7.285714285714285\n",
            "11.214285714285714\n"
          ],
          "name": "stdout"
        },
        {
          "output_type": "display_data",
          "data": {
            "image/png": "[encoded data removed]",
            "text/plain": [
              "<Figure size 425.125x360 with 1 Axes>"
            ]
          },
          "metadata": {
            "tags": [],
            "needs_background": "light"
          }
        }
      ]
    },
    {
      "cell_type": "markdown",
      "metadata": {
        "id": "qjNgXW6wdd7r"
      },
      "source": [
        "# Vehicles dataset\n",
        "\n",
        "Now let's work on a different dataset, which is stored in the vehicles.csv file.\n"
      ]
    },
    {
      "cell_type": "code",
      "metadata": {
        "id": "avWv4ipFdpka",
        "colab": {
          "base_uri": "https://localhost:8080/",
          "height": 537
        },
        "outputId": "9082c8a2-e324-432a-be51-d6d487ab0d29"
      },
      "source": [
        "# Load and visualise the vehicles dataset\n",
        "# To load the dataset: https://neptune.ai/blog/google-colab-dealing-with-files (check section \"Load individual files directly from GitHub\")\n",
        "\n",
        "raw = pd.read_csv('https://raw.githubusercontent.com/albanda/CE888/master/lab2%20-%20bootstrap/vehicles.csv')\n",
        "\n",
        "current = raw.iloc[:,0].values\n",
        "\n",
        "def nan_away(array):\n",
        "  final = array[np.logical_not(np.isnan(array))]\n",
        "  final = final.astype(int)\n",
        "  return (final)\n",
        "\n",
        "proto_new = raw.iloc[:,1].values\n",
        "\n",
        "new = nan_away(proto_new)\n",
        "\n",
        "print(current)\n",
        "print(new)\n",
        "\n",
        "\n",
        "\n",
        "\n",
        "# Note that the current and new fleets are in different columns and have different lengths, so bear this in mind when you're plotting.\n",
        "# You can create separate scatterplots for the two fleets, as you would with the histograms, \n",
        "# or plot them both in one plot (but not one against the other).\n",
        "counter1 = list(range(1, (len(current)+1)))\n",
        "plt.pyplot.scatter(current, counter1)\n",
        "counter2 = list(range(1, (len(new)+1)))\n",
        "plt.pyplot.scatter(new, counter2)\n",
        "### current in blue\n",
        "### new in orenge\n",
        "\n",
        "# Note: you can add more cells as needed to organise your code and your plots\n"
      ],
      "execution_count": 9,
      "outputs": [
        {
          "output_type": "stream",
          "text": [
            "[18 15 18 16 17 15 14 14 14 15 15 14 15 14 22 18 21 21 10 10 11  9 28 25\n",
            " 19 16 17 19 18 14 14 14 14 12 13 13 18 22 19 18 23 26 25 20 21 13 14 15\n",
            " 14 17 11 13 12 13 15 13 13 14 22 28 13 14 13 14 15 12 13 13 14 13 12 13\n",
            " 18 16 18 18 23 11 12 13 12 18 21 19 21 15 16 15 11 20 21 19 15 26 25 16\n",
            " 16 18 16 13 14 14 14 28 19 18 15 15 16 15 16 14 17 16 15 18 21 20 13 23\n",
            " 20 23 18 19 25 26 18 16 16 15 22 22 24 23 29 25 20 18 19 18 27 13 17 13\n",
            " 13 13 30 26 18 17 16 15 18 21 19 19 16 16 16 16 25 26 31 34 36 20 19 20\n",
            " 19 21 20 25 21 19 21 21 19 18 19 18 18 18 30 31 23 24 22 20 22 20 21 17\n",
            " 18 17 18 17 16 19 19 36 27 23 24 34 35 28 29 27 34 32 28 26 24 19 28 24\n",
            " 27 27 26 24 30 39 35 34 30 22 27 20 18 28 27 34 31 29 27 24 23 38 36 25\n",
            " 38 26 22 36 27 27 32 28 31]\n",
            "[24 27 27 25 31 35 24 19 28 23 27 20 22 18 20 31 32 31 32 24 26 29 24 24\n",
            " 33 33 32 28 19 32 34 26 30 22 22 33 39 36 28 27 21 24 30 34 32 38 37 30\n",
            " 31 37 32 47 41 45 34 33 24 32 39 35 32 37 38 34 34 32 33 32 25 24 37 31\n",
            " 36 36 34 38 32 38 32]\n"
          ],
          "name": "stdout"
        },
        {
          "output_type": "execute_result",
          "data": {
            "text/plain": [
              "<matplotlib.collections.PathCollection at 0x7f11b5634950>"
            ]
          },
          "metadata": {
            "tags": []
          },
          "execution_count": 9
        },
        {
          "output_type": "display_data",
          "data": {
            "image/png": "[encoded data removed]",
            "text/plain": [
              "<Figure size 432x288 with 1 Axes>"
            ]
          },
          "metadata": {
            "tags": [],
            "needs_background": "light"
          }
        }
      ]
    },
    {
      "cell_type": "markdown",
      "metadata": {
        "id": "B5d0tXDpIEj8"
      },
      "source": [
        "## Compare the two fleets\n",
        "\n",
        "The business analysts come up a comparison algorithm that requires the upper and lower bounds for the mean in order to say which fleet is better.\n",
        "1. Calculate the mean of both samples.\n",
        "2. Using the bootstrap function that you created:\n",
        "    - Construct the 95% CI of the mean of the current fleet.\n",
        "    - Construct the 95% CI of the mean of the new fleet.\n",
        "    - Are they comparable? (i.e., is one better than the other?) -- you can do this with a permutation test (check the lecture notes!)"
      ]
    },
    {
      "cell_type": "code",
      "metadata": {
        "id": "po4mp6zRHC0m",
        "colab": {
          "base_uri": "https://localhost:8080/"
        },
        "outputId": "f5a09c82-541e-4062-a40e-533924fa1d76"
      },
      "source": [
        "print (bootstrap_mean_ci(current, current.shape[0], 10000, 95))\n",
        "print (bootstrap_mean_ci(new, new.shape[0], 10000, 95))"
      ],
      "execution_count": 10,
      "outputs": [
        {
          "output_type": "stream",
          "text": [
            "(20.14615301204819, 19.34538152610442, 20.935843373493974)\n",
            "(30.479503797468357, 29.164556962025316, 31.82278481012658)\n"
          ],
          "name": "stdout"
        }
      ]
    },
    {
      "cell_type": "code",
      "metadata": {
        "id": "MkxvDZG4HC0n",
        "colab": {
          "base_uri": "https://localhost:8080/"
        },
        "outputId": "aff01b7f-9388-4f39-ba03-e4d84eebc561"
      },
      "source": [
        "# Create your own function for a permutation test here (you will need it for the lab quiz!):\n",
        "def permut_test(sample1, sample2, n_permutations):\n",
        "  xnew = np.mean(sample2)\n",
        "  xold = np.mean(sample1)\n",
        "  obs = xnew - xold\n",
        "  #print (obs)\n",
        "  #print (xnew)\n",
        "  #print (xold)\n",
        "  size2 = len(sample2)\n",
        "  size1 = len(sample1)\n",
        "  proto = 0\n",
        "  concat = list()\n",
        "  for i in sample1 : \n",
        "    concat.append(i)\n",
        "  for i in sample2 :\n",
        "    concat.append(i)\n",
        "  #print(concat)\n",
        "  for y in range(n_permutations):\n",
        "    np.random.shuffle(concat)\n",
        "    #print (concat)\n",
        "    pold = concat[:size1]\n",
        "    pnew = concat[-size2:]\n",
        "    #pold = concat[:int(len(concat)/2)]\n",
        "    #pnew = concat[int(len(concat)/2):]\n",
        "    aold = np.mean(pold)\n",
        "    anew = np.mean(pnew)\n",
        "    tperm = anew - aold\n",
        "    #print (anew)\n",
        "    #print (aold)\n",
        "    if tperm > obs:\n",
        "      proto = proto + 1\n",
        "  pvalue = proto/n_permutations\n",
        "  return pvalue\n",
        "\n",
        "permut_test(current, new, 10)\n"
      ],
      "execution_count": 11,
      "outputs": [
        {
          "output_type": "execute_result",
          "data": {
            "text/plain": [
              "0.0"
            ]
          },
          "metadata": {
            "tags": []
          },
          "execution_count": 11
        }
      ]
    },
    {
      "cell_type": "code",
      "metadata": {
        "colab": {
          "base_uri": "https://localhost:8080/"
        },
        "id": "UOWM2-yAwPJ9",
        "outputId": "68356fe5-05ec-4d71-8cf6-89d4ba8de07d"
      },
      "source": [
        "###questions\n",
        "print (bootstrap_mean_ci(data, data.shape[0], 10000, 90))\n",
        "print (bootstrap_mean_ci(current, current.shape[0], 10000, 92))\n",
        "print (bootstrap_mean_ci(data, data.shape[0], 10000, 90))\n",
        "print (bootstrap_mean_ci(new, new.shape[0], 10000, 99))\n",
        "print (permut_test(current, new, 30000))\n",
        "dem_share_PA = [60.08, 40.64, 36.07, 41.21, 31.04, 43.78, 44.08, 46.85, 44.71, 46.15, 63.10, 52.20, 43.18, 40.24, 39.92, 47.87, 37.77, 40.11, 49.85, 48.61, 38.62, 54.25, 34.84, 47.75, 43.82, 55.97, 58.23, 42.97, 42.38, 36.11, 37.53, 42.65, 50.96, 47.43, 56.24, 45.60, 46.39, 35.22, 48.56, 32.97, 57.88, 36.05, 37.72, 50.36, 32.12, 41.55, 54.66, 57.81, 54.58, 32.88, 54.37, 40.45, 47.61, 60.49, 43.11, 27.32, 44.03, 33.56, 37.26, 54.64, 43.12, 25.34, 49.79, 83.56, 40.09, 60.81, 49.81]\n",
        "dem_share_OH = [56.94, 50.46, 65.99, 45.88, 42.23, 45.26, 57.01, 53.61, 59.10, 61.48, 43.43, 44.69, 54.59, 48.36, 45.89, 48.62, 43.92, 38.23, 28.79, 63.57, 38.07, 40.18, 43.05, 41.56, 42.49, 36.06, 52.76, 46.07, 39.43, 39.26, 47.47, 27.92, 38.01, 45.45, 29.07, 28.94, 51.28, 50.10, 39.84, 36.43, 35.71, 31.47, 47.01, 40.10, 48.76, 31.56, 39.86, 45.31, 35.47, 51.38, 46.33, 48.73, 41.77, 41.32, 48.46, 53.14, 34.01, 54.74, 40.67, 38.96, 46.29, 38.25, 6.80, 31.75, 46.33, 44.90, 33.57, 38.10, 39.67, 40.47, 49.44, 37.62, 36.71, 46.73, 42.20, 53.16, 52.40, 58.36, 68.02, 38.53, 34.58, 69.64, 60.50, 53.53, 36.54, 49.58, 41.97, 38.11]\n",
        "print(len(dem_share_PA))\n",
        "print(len(dem_share_OH))\n",
        "print (bootstrap_mean_ci(dem_share_OH, data.shape[0], 20000, 98))\n",
        "print (bootstrap_mean_ci(dem_share_PA, data.shape[0], 20000, 98))\n",
        "print (permut_test(dem_share_OH, dem_share_PA, 30000))"
      ],
      "execution_count": 12,
      "outputs": [
        {
          "output_type": "stream",
          "text": [
            "(9.226885714285716, 6.857142857142857, 11.857142857142858)\n",
            "(20.14481204819277, 19.44578313253012, 20.859437751004016)\n",
            "(9.222271428571428, 6.785714285714286, 11.785714285714286)\n",
            "(30.466560759493674, 28.759493670886076, 32.27854430379746)\n",
            "0.0\n",
            "67\n",
            "88\n",
            "(44.31000803571429, 37.97060714285715, 50.44358571428572)\n",
            "(45.49572367857143, 39.733407142857146, 51.90074285714285)\n",
            "0.2315\n"
          ],
          "name": "stdout"
        }
      ]
    }
  ]
}